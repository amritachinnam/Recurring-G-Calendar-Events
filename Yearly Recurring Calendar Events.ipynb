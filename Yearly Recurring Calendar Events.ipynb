{
 "cells": [
  {
   "cell_type": "code",
   "execution_count": null,
   "id": "c9e54f61-54bf-40aa-9491-5ac398816640",
   "metadata": {},
   "outputs": [],
   "source": [
    "pip install google-auth google-auth-httplib2 google-api-python-client pandas\n"
   ]
  },
  {
   "cell_type": "code",
   "execution_count": null,
   "id": "db0a8cec-e41e-4b2a-bb77-310b13048678",
   "metadata": {},
   "outputs": [],
   "source": [
    "import csv\n",
    "from googleapiclient.discovery import build\n",
    "from google.oauth2 import service_account\n",
    "\n",
    "# Path to your JSON file with Google Calendar API credentials\n",
    "json_file = \"your-json-file.json\"\n",
    "\n",
    "# Define the scopes\n",
    "SCOPES = ['https://www.googleapis.com/auth/calendar']\n",
    "\n",
    "def get_service():\n",
    "    credentials = service_account.Credentials.from_service_account_file(\n",
    "        json_file, scopes=SCOPES)\n",
    "    return build('calendar', 'v3', credentials=credentials)\n",
    "\n",
    "def create_event(service, summary, start_date, description):\n",
    "    # Extract month and day from the date\n",
    "    start_date_parts = start_date.split('-')\n",
    "    year, month, day = start_date_parts[0], start_date_parts[1], start_date_parts[2]\n",
    "    \n",
    "    # Create event with recurring rule\n",
    "    event = {\n",
    "        'summary': summary,\n",
    "        'description': description,\n",
    "        'start': {\n",
    "            'date': start_date,\n",
    "            'timeZone': 'America/New_York',  # Adjust as needed\n",
    "        },\n",
    "        'end': {\n",
    "            'date': start_date,\n",
    "            'timeZone': 'America/New_York',  # Adjust as needed\n",
    "        },\n",
    "        'recurrence': [\n",
    "            f'RRULE:FREQ=YEARLY;BYMONTH={month};BYMONTHDAY={day}'\n",
    "        ]\n",
    "    }\n",
    "    \n",
    "    try:\n",
    "        event_response = service.events().insert(calendarId='youremailid@gmail.com', body=event).execute()  #add your email address\n",
    "        print(f'Event created: {event_response.get(\"htmlLink\")}')\n",
    "    except Exception as e:\n",
    "        print(f'An error occurred: {e}')\n",
    "\n",
    "def import_events_from_csv(csv_file):\n",
    "    service = get_service()\n",
    "    \n",
    "    with open(csv_file, 'r') as file:\n",
    "        reader = csv.DictReader(file)\n",
    "        for row in reader:\n",
    "            summary = row['Subject']\n",
    "            start_date = row['Start Date']  # e.g., '2024-08-10'\n",
    "            description = row['Description']\n",
    "            print(f'Processing event: {summary} on {start_date}')\n",
    "            create_event(service, summary, start_date, description)\n",
    "\n",
    "# Main execution\n",
    "if __name__ == '__main__':\n",
    "    import_events_from_csv(\"your_csv_file.csv\") #add your csv file\n"
   ]
  }
 ],
 "metadata": {
  "kernelspec": {
   "display_name": "Python 3 (ipykernel)",
   "language": "python",
   "name": "python3"
  },
  "language_info": {
   "codemirror_mode": {
    "name": "ipython",
    "version": 3
   },
   "file_extension": ".py",
   "mimetype": "text/x-python",
   "name": "python",
   "nbconvert_exporter": "python",
   "pygments_lexer": "ipython3",
   "version": "3.12.4"
  }
 },
 "nbformat": 4,
 "nbformat_minor": 5
}
